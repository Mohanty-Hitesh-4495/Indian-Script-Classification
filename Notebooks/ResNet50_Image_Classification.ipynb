{
  "cells": [
    {
      "cell_type": "markdown",
      "metadata": {},
      "source": [
        "# Step 1: Import all Required Libraries"
      ]
    },
    {
      "cell_type": "code",
      "execution_count": 1,
      "metadata": {
        "id": "2zsEvK0eThHc"
      },
      "outputs": [],
      "source": [
        "from tensorflow.keras.preprocessing.image import ImageDataGenerator\n",
        "from tensorflow.keras.callbacks import EarlyStopping, ReduceLROnPlateau"
      ]
    },
    {
      "cell_type": "markdown",
      "metadata": {
        "id": "qSi94lc3UZxe"
      },
      "source": [
        "# Step 2: Load and preprocess the data"
      ]
    },
    {
      "cell_type": "code",
      "execution_count": 2,
      "metadata": {
        "id": "xg1L8lQ9TlYZ"
      },
      "outputs": [],
      "source": [
        "# Define paths to training and validation data\n",
        "train_dir = r'D:\\Deep Learning\\Text_Image_Language_Classifier\\Text Image Dataset\\train'\n",
        "val_dir = r'D:\\Deep Learning\\Text_Image_Language_Classifier\\Text Image Dataset\\test'\n"
      ]
    },
    {
      "cell_type": "code",
      "execution_count": 3,
      "metadata": {
        "id": "TLJrD97FT3mj"
      },
      "outputs": [],
      "source": [
        "# Image data generator for data augmentation\n",
        "train_datagen = ImageDataGenerator(\n",
        "    rescale=1./255.,  # Rescale pixel values from 0-255 to 0-1\n",
        "    rotation_range=20,\n",
        "    width_shift_range=0.2,\n",
        "    height_shift_range=0.2,\n",
        "    shear_range=0.2,\n",
        "    zoom_range=0.2,\n",
        "    horizontal_flip=True,\n",
        "    fill_mode='nearest'\n",
        ")"
      ]
    },
    {
      "cell_type": "code",
      "execution_count": 4,
      "metadata": {
        "id": "PDcx_PTlT9_b"
      },
      "outputs": [],
      "source": [
        "# Validation data generator should only rescale the images\n",
        "val_datagen = ImageDataGenerator(rescale=1./255.)"
      ]
    },
    {
      "cell_type": "code",
      "execution_count": 5,
      "metadata": {
        "colab": {
          "base_uri": "https://localhost:8080/"
        },
        "id": "0TW7swW_UCdR",
        "outputId": "937f583c-552f-438a-c3c7-0f7b3a42234d"
      },
      "outputs": [
        {
          "name": "stdout",
          "output_type": "stream",
          "text": [
            "Found 10575 images belonging to 12 classes.\n",
            "Found 3452 images belonging to 12 classes.\n"
          ]
        }
      ],
      "source": [
        "# Create generators for training and validation data\n",
        "train_generator = train_datagen.flow_from_directory(\n",
        "    train_dir,\n",
        "    target_size=(224, 224),  # Resize images to match the input size of the model\n",
        "    batch_size=32,\n",
        "    class_mode='categorical'  # Use categorical labels\n",
        ")\n",
        "\n",
        "val_generator = val_datagen.flow_from_directory(\n",
        "    val_dir,\n",
        "    target_size=(224, 224),  # Resize images to match the input size of the model\n",
        "    batch_size=32,\n",
        "    class_mode='categorical'  # Use categorical labels\n",
        ")"
      ]
    },
    {
      "cell_type": "markdown",
      "metadata": {
        "id": "tLfukF1nUce4"
      },
      "source": [
        "# Step 3: Load the ResNet50 model without the top layer"
      ]
    },
    {
      "cell_type": "code",
      "execution_count": 6,
      "metadata": {
        "id": "SEozuRc5e8Oz"
      },
      "outputs": [],
      "source": [
        "from tensorflow.keras.applications import ResNet50\n",
        "from tensorflow.keras.layers import GlobalAveragePooling2D, Dense, Dropout\n",
        "from tensorflow.keras.models import Sequential\n",
        "from tensorflow.keras.optimizers import SGD"
      ]
    },
    {
      "cell_type": "code",
      "execution_count": 7,
      "metadata": {
        "colab": {
          "base_uri": "https://localhost:8080/"
        },
        "id": "mLQC1-yZUI0n",
        "outputId": "3479445a-8638-4133-a1df-da3ec427180c"
      },
      "outputs": [],
      "source": [
        "base_model = ResNet50(weights='imagenet', include_top=False, input_shape=(224, 224, 3))"
      ]
    },
    {
      "cell_type": "code",
      "execution_count": 8,
      "metadata": {
        "id": "ByD0b_mFfQTl"
      },
      "outputs": [],
      "source": [
        "# Freeze the layers of ResNet50\n",
        "for layer in base_model.layers:\n",
        "    layer.trainable = False"
      ]
    },
    {
      "cell_type": "code",
      "execution_count": 9,
      "metadata": {
        "id": "nfE_NK0Kfb_6"
      },
      "outputs": [],
      "source": [
        "model = Sequential()\n",
        "model.add(base_model)\n",
        "model.add(GlobalAveragePooling2D())\n",
        "model.add(Dense(512, activation='relu'))\n",
        "model.add(Dropout(0.5))\n",
        "model.add(Dense(12, activation='softmax'))"
      ]
    },
    {
      "cell_type": "code",
      "execution_count": 10,
      "metadata": {
        "id": "GoeIYRh_hxCT"
      },
      "outputs": [],
      "source": [
        "model.compile(optimizer=SGD(learning_rate=0.01), loss='categorical_crossentropy', metrics=['accuracy'])"
      ]
    },
    {
      "cell_type": "code",
      "execution_count": 11,
      "metadata": {},
      "outputs": [],
      "source": [
        "# Callbacks\n",
        "early_stopping = EarlyStopping(monitor='val_loss', patience=5, restore_best_weights=True)\n",
        "reduce_lr = ReduceLROnPlateau(monitor='val_loss', factor=0.1, patience=3, min_lr=1e-6)\n"
      ]
    },
    {
      "cell_type": "code",
      "execution_count": 12,
      "metadata": {},
      "outputs": [
        {
          "name": "stdout",
          "output_type": "stream",
          "text": [
            "Epoch 1/10\n"
          ]
        },
        {
          "name": "stderr",
          "output_type": "stream",
          "text": [
            "c:\\Users\\mohan\\AppData\\Local\\Programs\\Python\\Python312\\Lib\\site-packages\\keras\\src\\trainers\\data_adapters\\py_dataset_adapter.py:122: UserWarning: Your `PyDataset` class should call `super().__init__(**kwargs)` in its constructor. `**kwargs` can include `workers`, `use_multiprocessing`, `max_queue_size`. Do not pass these arguments to `fit()`, as they will be ignored.\n",
            "  self._warn_if_super_not_called()\n"
          ]
        },
        {
          "name": "stdout",
          "output_type": "stream",
          "text": [
            "\u001b[1m331/331\u001b[0m \u001b[32m━━━━━━━━━━━━━━━━━━━━\u001b[0m\u001b[37m\u001b[0m \u001b[1m883s\u001b[0m 3s/step - accuracy: 0.2261 - loss: 2.3216 - val_accuracy: 0.4432 - val_loss: 1.9787\n",
            "Epoch 2/10\n",
            "\u001b[1m331/331\u001b[0m \u001b[32m━━━━━━━━━━━━━━━━━━━━\u001b[0m\u001b[37m\u001b[0m \u001b[1m875s\u001b[0m 3s/step - accuracy: 0.3371 - loss: 1.9590 - val_accuracy: 0.3960 - val_loss: 1.8554\n",
            "Epoch 3/10\n",
            "\u001b[1m331/331\u001b[0m \u001b[32m━━━━━━━━━━━━━━━━━━━━\u001b[0m\u001b[37m\u001b[0m \u001b[1m1381s\u001b[0m 4s/step - accuracy: 0.3770 - loss: 1.8062 - val_accuracy: 0.4322 - val_loss: 1.8060\n",
            "Epoch 4/10\n",
            "\u001b[1m331/331\u001b[0m \u001b[32m━━━━━━━━━━━━━━━━━━━━\u001b[0m\u001b[37m\u001b[0m \u001b[1m2353s\u001b[0m 7s/step - accuracy: 0.3995 - loss: 1.7137 - val_accuracy: 0.4392 - val_loss: 1.8062\n",
            "Epoch 5/10\n",
            "\u001b[1m331/331\u001b[0m \u001b[32m━━━━━━━━━━━━━━━━━━━━\u001b[0m\u001b[37m\u001b[0m \u001b[1m1233s\u001b[0m 4s/step - accuracy: 0.4300 - loss: 1.6535 - val_accuracy: 0.4661 - val_loss: 1.7877\n",
            "Epoch 6/10\n",
            "\u001b[1m331/331\u001b[0m \u001b[32m━━━━━━━━━━━━━━━━━━━━\u001b[0m\u001b[37m\u001b[0m \u001b[1m876s\u001b[0m 3s/step - accuracy: 0.4420 - loss: 1.5875 - val_accuracy: 0.4429 - val_loss: 1.7467\n",
            "Epoch 7/10\n",
            "\u001b[1m331/331\u001b[0m \u001b[32m━━━━━━━━━━━━━━━━━━━━\u001b[0m\u001b[37m\u001b[0m \u001b[1m860s\u001b[0m 3s/step - accuracy: 0.4649 - loss: 1.5412 - val_accuracy: 0.4577 - val_loss: 1.7454\n",
            "Epoch 8/10\n",
            "\u001b[1m331/331\u001b[0m \u001b[32m━━━━━━━━━━━━━━━━━━━━\u001b[0m\u001b[37m\u001b[0m \u001b[1m872s\u001b[0m 3s/step - accuracy: 0.4839 - loss: 1.4871 - val_accuracy: 0.4470 - val_loss: 1.7696\n",
            "Epoch 9/10\n",
            "\u001b[1m331/331\u001b[0m \u001b[32m━━━━━━━━━━━━━━━━━━━━\u001b[0m\u001b[37m\u001b[0m \u001b[1m889s\u001b[0m 3s/step - accuracy: 0.4986 - loss: 1.4697 - val_accuracy: 0.4583 - val_loss: 1.7607\n",
            "Epoch 10/10\n",
            "\u001b[1m331/331\u001b[0m \u001b[32m━━━━━━━━━━━━━━━━━━━━\u001b[0m\u001b[37m\u001b[0m \u001b[1m832s\u001b[0m 3s/step - accuracy: 0.5070 - loss: 1.4263 - val_accuracy: 0.4783 - val_loss: 1.6972\n"
          ]
        }
      ],
      "source": [
        "resnet_history = model.fit(train_generator, validation_data=val_generator, epochs=10)"
      ]
    },
    {
      "cell_type": "code",
      "execution_count": 13,
      "metadata": {},
      "outputs": [
        {
          "name": "stdout",
          "output_type": "stream",
          "text": [
            "108/108 - 188s - 2s/step - accuracy: 0.4783 - loss: 1.6976\n",
            "Validation accuracy: 0.4782734513282776\n"
          ]
        }
      ],
      "source": [
        "test_loss, test_acc = model.evaluate(val_generator, verbose=2)\n",
        "print('Validation accuracy:', test_acc)"
      ]
    },
    {
      "cell_type": "code",
      "execution_count": null,
      "metadata": {},
      "outputs": [],
      "source": []
    }
  ],
  "metadata": {
    "accelerator": "GPU",
    "colab": {
      "gpuType": "T4",
      "provenance": []
    },
    "kernelspec": {
      "display_name": "Python 3",
      "name": "python3"
    },
    "language_info": {
      "codemirror_mode": {
        "name": "ipython",
        "version": 3
      },
      "file_extension": ".py",
      "mimetype": "text/x-python",
      "name": "python",
      "nbconvert_exporter": "python",
      "pygments_lexer": "ipython3",
      "version": "3.12.1"
    }
  },
  "nbformat": 4,
  "nbformat_minor": 0
}
